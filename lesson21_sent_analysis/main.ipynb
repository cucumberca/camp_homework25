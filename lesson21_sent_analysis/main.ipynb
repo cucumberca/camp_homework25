{
 "cells": [
  {
   "cell_type": "code",
   "execution_count": 1,
   "id": "9e1fd1fe",
   "metadata": {},
   "outputs": [
    {
     "name": "stderr",
     "output_type": "stream",
     "text": [
      "/Library/Frameworks/Python.framework/Versions/3.13/lib/python3.13/site-packages/tqdm/auto.py:21: TqdmWarning: IProgress not found. Please update jupyter and ipywidgets. See https://ipywidgets.readthedocs.io/en/stable/user_install.html\n",
      "  from .autonotebook import tqdm as notebook_tqdm\n",
      "[nltk_data] Downloading package punkt_tab to\n",
      "[nltk_data]     /Users/rostyslavbalytskiy/nltk_data...\n",
      "[nltk_data]   Package punkt_tab is already up-to-date!\n",
      "[nltk_data] Downloading package stopwords to\n",
      "[nltk_data]     /Users/rostyslavbalytskiy/nltk_data...\n",
      "[nltk_data]   Package stopwords is already up-to-date!\n"
     ]
    },
    {
     "data": {
      "text/plain": [
       "True"
      ]
     },
     "execution_count": 1,
     "metadata": {},
     "output_type": "execute_result"
    }
   ],
   "source": [
    "import nltk\n",
    "from nltk import word_tokenize\n",
    "from nltk.corpus import stopwords\n",
    "from sklearn.model_selection import train_test_split\n",
    "from sklearn.linear_model import LogisticRegression\n",
    "from nltk.classify.scikitlearn import SklearnClassifier\n",
    "from transformers import pipeline\n",
    "import torch\n",
    "\n",
    "from sklearn.metrics import roc_auc_score, f1_score\n",
    "\n",
    "nltk.download(\"punkt_tab\")\n",
    "nltk.download(\"stopwords\")"
   ]
  },
  {
   "cell_type": "code",
   "execution_count": 2,
   "id": "b3045e6f",
   "metadata": {},
   "outputs": [
    {
     "name": "stdout",
     "output_type": "stream",
     "text": [
      "len of texts_neg = 5,331\n",
      "\n",
      " simplistic , silly and tedious . \n",
      "\n",
      " it's so laddish and juvenile , only teenage boys could possibly find it funny . \n",
      "\n",
      " exploitative and largely devoid of the depth or sophistication that would make watching such a graphic treatment of the crimes bearable . \n",
      "\n",
      " [garbus] discards the potential for pathological study , exhuming instead , the skewed melodrama of the circumstantial situation . \n",
      "\n",
      " a visually flashy but narratively opaque and emotionally vapid exercise in style and mystification . \n"
     ]
    }
   ],
   "source": [
    "fn='rt-polarity.neg'\n",
    "with open(fn, \"r\",encoding='utf-8', errors='ignore') as f: # some invalid symbols encountered \n",
    "    content = f.read()\n",
    "texts_neg=content.splitlines()\n",
    "print ('len of texts_neg = {:,}'.format (len(texts_neg)))\n",
    "for review in texts_neg[:5]:\n",
    "    print ( '\\n', review)"
   ]
  },
  {
   "cell_type": "code",
   "execution_count": 3,
   "id": "d2182907",
   "metadata": {},
   "outputs": [
    {
     "name": "stdout",
     "output_type": "stream",
     "text": [
      "len of texts_pos = 5,331\n",
      "\n",
      " the rock is destined to be the 21st century's new \" conan \" and that he's going to make a splash even greater than arnold schwarzenegger , jean-claud van damme or steven segal . \n",
      "\n",
      " the gorgeously elaborate continuation of \" the lord of the rings \" trilogy is so huge that a column of words cannot adequately describe co-writer/director peter jackson's expanded vision of j . r . r . tolkien's middle-earth . \n",
      "\n",
      " effective but too-tepid biopic\n",
      "\n",
      " if you sometimes like to go to the movies to have fun , wasabi is a good place to start . \n",
      "\n",
      " emerges as something rare , an issue movie that's so honest and keenly observed that it doesn't feel like one . \n"
     ]
    }
   ],
   "source": [
    "fn='rt-polarity.pos'\n",
    "\n",
    "with open(fn, \"r\",encoding='utf-8', errors='ignore') as f:\n",
    "    content = f.read()\n",
    "texts_pos=content.splitlines()\n",
    "print ('len of texts_pos = {:,}'.format (len(texts_pos)))\n",
    "for review in texts_pos[:5]:\n",
    "    print ('\\n', review)"
   ]
  },
  {
   "cell_type": "code",
   "execution_count": 4,
   "id": "3845cff7",
   "metadata": {},
   "outputs": [],
   "source": [
    "X_pos_train, X_pos_test = train_test_split(texts_pos, test_size=0.2, random_state=42)\n",
    "\n",
    "X_neg_train, X_neg_test = train_test_split(texts_neg, test_size=0.2, random_state=42)"
   ]
  },
  {
   "cell_type": "code",
   "execution_count": 5,
   "id": "7dae257c",
   "metadata": {},
   "outputs": [],
   "source": [
    "def preprocess_text(text):\n",
    "    import re\n",
    "    text = re.sub('<.*?>', '', text)\n",
    "    text = re.sub('https://.*', '', text)\n",
    "    text = re.sub(r'[^a-zA-Z0-9\\s]', '', text)\n",
    "    text = text.lower()\n",
    "    return text"
   ]
  },
  {
   "cell_type": "code",
   "execution_count": 6,
   "id": "06164e50",
   "metadata": {},
   "outputs": [],
   "source": [
    "X_pos_train = [preprocess_text(review) for review in X_pos_train]\n",
    "X_pos_test = [preprocess_text(review) for review in X_pos_test]\n",
    "X_neg_train = [preprocess_text(review) for review in X_neg_train]\n",
    "X_neg_test = [preprocess_text(review) for review in X_neg_test]"
   ]
  },
  {
   "cell_type": "code",
   "execution_count": 7,
   "id": "d8ef0703",
   "metadata": {},
   "outputs": [],
   "source": [
    "def find_features(review):\n",
    "    words = word_tokenize(review)\n",
    "    words = [word for word in words if word.lower() not in stopwords.words('english')]\n",
    "    return {word: True for word in words}"
   ]
  },
  {
   "cell_type": "code",
   "execution_count": 8,
   "id": "0b65a262",
   "metadata": {},
   "outputs": [],
   "source": [
    "X_y_train = [(find_features(review), '1') for review in X_pos_train] + [(find_features(review), '0') for review in X_neg_train]\n",
    "X_y_test = [(find_features(review), '1') for review in X_pos_test] + [(find_features(review), '0') for review in X_neg_test]\n",
    "\n",
    "y_test_true = [label for _, label in X_y_test]"
   ]
  },
  {
   "cell_type": "code",
   "execution_count": 9,
   "id": "5533b2c1",
   "metadata": {},
   "outputs": [
    {
     "name": "stdout",
     "output_type": "stream",
     "text": [
      "\n",
      "[Naive Bayes Results]\n",
      "              precision    recall  f1-score   support\n",
      "\n",
      "           0     0.7768    0.7601    0.7684      1067\n",
      "           1     0.7651    0.7816    0.7733      1067\n",
      "\n",
      "    accuracy                         0.7709      2134\n",
      "   macro avg     0.7710    0.7709    0.7708      2134\n",
      "weighted avg     0.7710    0.7709    0.7708      2134\n",
      "\n"
     ]
    }
   ],
   "source": [
    "from sklearn.metrics import classification_report\n",
    "\n",
    "\n",
    "nb_classifier = nltk.NaiveBayesClassifier.train(X_y_train)\n",
    "y_pred_nb = [nb_classifier.classify(feats) for feats, _ in X_y_test]\n",
    "print(\"\\n[Naive Bayes Results]\")\n",
    "print(classification_report(y_test_true, y_pred_nb, digits=4))\n",
    "\n"
   ]
  },
  {
   "cell_type": "code",
   "execution_count": 10,
   "id": "8df0eb38",
   "metadata": {},
   "outputs": [
    {
     "name": "stdout",
     "output_type": "stream",
     "text": [
      "\n",
      "[Logistic Regression Results]\n",
      "              precision    recall  f1-score   support\n",
      "\n",
      "           0     0.7539    0.7666    0.7602      1067\n",
      "           1     0.7626    0.7498    0.7561      1067\n",
      "\n",
      "    accuracy                         0.7582      2134\n",
      "   macro avg     0.7583    0.7582    0.7582      2134\n",
      "weighted avg     0.7583    0.7582    0.7582      2134\n",
      "\n"
     ]
    }
   ],
   "source": [
    "lr_classifier = SklearnClassifier(LogisticRegression(max_iter=1000))\n",
    "lr_classifier.train(X_y_train)\n",
    "y_pred_lr = [lr_classifier.classify(feats) for feats, _ in X_y_test]\n",
    "print(\"\\n[Logistic Regression Results]\")\n",
    "print(classification_report(y_test_true, y_pred_lr, digits=4))\n"
   ]
  },
  {
   "cell_type": "code",
   "execution_count": 11,
   "id": "3ba57d3f",
   "metadata": {},
   "outputs": [
    {
     "name": "stderr",
     "output_type": "stream",
     "text": [
      "Device set to use mps:0\n"
     ]
    },
    {
     "name": "stdout",
     "output_type": "stream",
     "text": [
      "\n",
      "[Zero-Shot Classification Running...]\n",
      "\n",
      "[Zero-Shot Classification Results]\n",
      "              precision    recall  f1-score   support\n",
      "\n",
      "           0     0.7761    0.9063    0.8361      1067\n",
      "           1     0.8874    0.7385    0.8061      1067\n",
      "\n",
      "    accuracy                         0.8224      2134\n",
      "   macro avg     0.8317    0.8224    0.8211      2134\n",
      "weighted avg     0.8317    0.8224    0.8211      2134\n",
      "\n"
     ]
    }
   ],
   "source": [
    "zero_shot_classifier = pipeline(\"zero-shot-classification\", model=\"facebook/bart-large-mnli\")\n",
    "\n",
    "raw_X_test = X_pos_test + X_neg_test\n",
    "raw_y_true = ['1'] * len(X_pos_test) + ['0'] * len(X_neg_test)\n",
    "\n",
    "candidate_labels = [\"positive\", \"negative\"]\n",
    "y_pred_zs = []\n",
    "\n",
    "print(\"\\n[Zero-Shot Classification Running...]\")\n",
    "for review in raw_X_test:\n",
    "    short_review = review[:512]\n",
    "    result = zero_shot_classifier(short_review, candidate_labels)\n",
    "    predicted_label = '1' if result['labels'][0] == 'positive' else '0'\n",
    "    y_pred_zs.append(predicted_label)\n",
    "\n",
    "print(\"\\n[Zero-Shot Classification Results]\")\n",
    "print(classification_report(raw_y_true, y_pred_zs, digits=4))"
   ]
  }
 ],
 "metadata": {
  "kernelspec": {
   "display_name": "Python 3",
   "language": "python",
   "name": "python3"
  },
  "language_info": {
   "codemirror_mode": {
    "name": "ipython",
    "version": 3
   },
   "file_extension": ".py",
   "mimetype": "text/x-python",
   "name": "python",
   "nbconvert_exporter": "python",
   "pygments_lexer": "ipython3",
   "version": "3.13.1"
  }
 },
 "nbformat": 4,
 "nbformat_minor": 5
}

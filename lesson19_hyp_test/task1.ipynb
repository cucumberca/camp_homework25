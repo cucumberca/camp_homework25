{
 "cells": [
  {
   "cell_type": "markdown",
   "id": "f4135805",
   "metadata": {},
   "source": [
    "### Light vs. Dark Theme User Behavior Dataset"
   ]
  },
  {
   "cell_type": "code",
   "execution_count": 1,
   "id": "6c831ee3",
   "metadata": {},
   "outputs": [
    {
     "data": {
      "text/html": [
       "<div>\n",
       "<style scoped>\n",
       "    .dataframe tbody tr th:only-of-type {\n",
       "        vertical-align: middle;\n",
       "    }\n",
       "\n",
       "    .dataframe tbody tr th {\n",
       "        vertical-align: top;\n",
       "    }\n",
       "\n",
       "    .dataframe thead th {\n",
       "        text-align: right;\n",
       "    }\n",
       "</style>\n",
       "<table border=\"1\" class=\"dataframe\">\n",
       "  <thead>\n",
       "    <tr style=\"text-align: right;\">\n",
       "      <th></th>\n",
       "      <th>Theme</th>\n",
       "      <th>Click Through Rate</th>\n",
       "      <th>Conversion Rate</th>\n",
       "      <th>Bounce Rate</th>\n",
       "      <th>Scroll_Depth</th>\n",
       "      <th>Age</th>\n",
       "      <th>Location</th>\n",
       "      <th>Session_Duration</th>\n",
       "      <th>Purchases</th>\n",
       "      <th>Added_to_Cart</th>\n",
       "    </tr>\n",
       "  </thead>\n",
       "  <tbody>\n",
       "    <tr>\n",
       "      <th>0</th>\n",
       "      <td>Light Theme</td>\n",
       "      <td>0.054920</td>\n",
       "      <td>0.282367</td>\n",
       "      <td>0.405085</td>\n",
       "      <td>72.489458</td>\n",
       "      <td>25</td>\n",
       "      <td>Chennai</td>\n",
       "      <td>1535</td>\n",
       "      <td>No</td>\n",
       "      <td>Yes</td>\n",
       "    </tr>\n",
       "    <tr>\n",
       "      <th>1</th>\n",
       "      <td>Light Theme</td>\n",
       "      <td>0.113932</td>\n",
       "      <td>0.032973</td>\n",
       "      <td>0.732759</td>\n",
       "      <td>61.858568</td>\n",
       "      <td>19</td>\n",
       "      <td>Pune</td>\n",
       "      <td>303</td>\n",
       "      <td>No</td>\n",
       "      <td>Yes</td>\n",
       "    </tr>\n",
       "    <tr>\n",
       "      <th>2</th>\n",
       "      <td>Dark Theme</td>\n",
       "      <td>0.323352</td>\n",
       "      <td>0.178763</td>\n",
       "      <td>0.296543</td>\n",
       "      <td>45.737376</td>\n",
       "      <td>47</td>\n",
       "      <td>Chennai</td>\n",
       "      <td>563</td>\n",
       "      <td>Yes</td>\n",
       "      <td>Yes</td>\n",
       "    </tr>\n",
       "    <tr>\n",
       "      <th>3</th>\n",
       "      <td>Light Theme</td>\n",
       "      <td>0.485836</td>\n",
       "      <td>0.325225</td>\n",
       "      <td>0.245001</td>\n",
       "      <td>76.305298</td>\n",
       "      <td>58</td>\n",
       "      <td>Pune</td>\n",
       "      <td>385</td>\n",
       "      <td>Yes</td>\n",
       "      <td>No</td>\n",
       "    </tr>\n",
       "    <tr>\n",
       "      <th>4</th>\n",
       "      <td>Light Theme</td>\n",
       "      <td>0.034783</td>\n",
       "      <td>0.196766</td>\n",
       "      <td>0.765100</td>\n",
       "      <td>48.927407</td>\n",
       "      <td>25</td>\n",
       "      <td>New Delhi</td>\n",
       "      <td>1437</td>\n",
       "      <td>No</td>\n",
       "      <td>No</td>\n",
       "    </tr>\n",
       "  </tbody>\n",
       "</table>\n",
       "</div>"
      ],
      "text/plain": [
       "         Theme  Click Through Rate  Conversion Rate  Bounce Rate  \\\n",
       "0  Light Theme            0.054920         0.282367     0.405085   \n",
       "1  Light Theme            0.113932         0.032973     0.732759   \n",
       "2   Dark Theme            0.323352         0.178763     0.296543   \n",
       "3  Light Theme            0.485836         0.325225     0.245001   \n",
       "4  Light Theme            0.034783         0.196766     0.765100   \n",
       "\n",
       "   Scroll_Depth  Age   Location  Session_Duration Purchases Added_to_Cart  \n",
       "0     72.489458   25    Chennai              1535        No           Yes  \n",
       "1     61.858568   19       Pune               303        No           Yes  \n",
       "2     45.737376   47    Chennai               563       Yes           Yes  \n",
       "3     76.305298   58       Pune               385       Yes            No  \n",
       "4     48.927407   25  New Delhi              1437        No            No  "
      ]
     },
     "execution_count": 1,
     "metadata": {},
     "output_type": "execute_result"
    }
   ],
   "source": [
    "import pandas as pd\n",
    "import numpy as np\n",
    "import pingouin\n",
    "import matplotlib.pyplot as plt\n",
    "import seaborn as sns\n",
    "\n",
    "df=pd.read_csv('website_ab_test.csv')\n",
    "df.head()"
   ]
  },
  {
   "cell_type": "code",
   "execution_count": 2,
   "id": "8e1cb522",
   "metadata": {},
   "outputs": [
    {
     "data": {
      "image/png": "[encoded data removed]",
      "text/plain": [
       "<Figure size 800x600 with 1 Axes>"
      ]
     },
     "metadata": {},
     "output_type": "display_data"
    }
   ],
   "source": [
    "plt.figure(figsize=(8, 6))\n",
    "sns.histplot(data=df, x='Session_Duration', hue='Theme', kde=True, bins=20)\n",
    "plt.title(\"Distribution of Session Duration by Theme\")\n",
    "plt.ylabel(\"Count\")\n",
    "plt.show()"
   ]
  },
  {
   "cell_type": "code",
   "execution_count": 3,
   "id": "1b001cfb",
   "metadata": {},
   "outputs": [
    {
     "name": "stdout",
     "output_type": "stream",
     "text": [
      "{'Number of rows': 1000, 'Number of columns': 10, 'Missing values summary': Theme                 0\n",
      "Click Through Rate    0\n",
      "Conversion Rate       0\n",
      "Bounce Rate           0\n",
      "Scroll_Depth          0\n",
      "Age                   0\n",
      "Location              0\n",
      "Session_Duration      0\n",
      "Purchases             0\n",
      "Added_to_Cart         0\n",
      "dtype: int64, 'Summary of numerical columns':        Click Through Rate  Conversion Rate  Bounce Rate  Scroll_Depth  \\\n",
      "count         1000.000000      1000.000000  1000.000000   1000.000000   \n",
      "mean             0.256048         0.253312     0.505758     50.319494   \n",
      "std              0.139265         0.139092     0.172195     16.895269   \n",
      "min              0.010767         0.010881     0.200720     20.011738   \n",
      "25%              0.140794         0.131564     0.353609     35.655167   \n",
      "50%              0.253715         0.252823     0.514049     51.130712   \n",
      "75%              0.370674         0.373040     0.648557     64.666258   \n",
      "max              0.499989         0.498916     0.799658     79.997108   \n",
      "\n",
      "               Age  Session_Duration  \n",
      "count  1000.000000       1000.000000  \n",
      "mean     41.528000        924.999000  \n",
      "std      14.114334        508.231723  \n",
      "min      18.000000         38.000000  \n",
      "25%      29.000000        466.500000  \n",
      "50%      42.000000        931.000000  \n",
      "75%      54.000000       1375.250000  \n",
      "max      65.000000       1797.000000  , 'Data types of each column': Theme                  object\n",
      "Click Through Rate    float64\n",
      "Conversion Rate       float64\n",
      "Bounce Rate           float64\n",
      "Scroll_Depth          float64\n",
      "Age                     int64\n",
      "Location               object\n",
      "Session_Duration        int64\n",
      "Purchases              object\n",
      "Added_to_Cart          object\n",
      "dtype: object}\n"
     ]
    }
   ],
   "source": [
    "# Summary of the dataset\n",
    "Data_summary= {\n",
    "    'Number of rows': df.shape[0],\n",
    "    'Number of columns': df.shape[1],\n",
    "    'Missing values summary': df.isnull().sum(),\n",
    "    'Summary of numerical columns': df.describe(),\n",
    "    'Data types of each column': df.dtypes\n",
    "}\n",
    "print(Data_summary)"
   ]
  },
  {
   "cell_type": "markdown",
   "id": "2ca2b090",
   "metadata": {},
   "source": [
    "**From the above we can summarise our data thus:**\n",
    "\n",
    "- **Click through** rate ranges between 0.01 and 0.50, and has a mean of approximately  0.26\n",
    "\n",
    "- **Conversion Rate** also ranges between 0.01 and 0.50 and has a mean of approximately  0.25.\n",
    "\n",
    "- **Bounce Rate** shows a spread between 0.20 and  0.80 and a mean of about 0.51.\n",
    "\n",
    "- **Scroll_Depth** varies between 20.01, 80.00 with a mean value of 50.32.\n",
    "\n",
    "- **Age ranges** between 18 years and 65 years with an average age of 41.52.\n",
    "\n",
    "- **Session_Duration** has a wide range of 38 seconds to almost 1800 seconds(about 30 minutes), with a mean session duration of 925 seconds(about 15 minutes).\n"
   ]
  },
  {
   "cell_type": "code",
   "execution_count": 4,
   "id": "354d563a",
   "metadata": {},
   "outputs": [
    {
     "name": "stdout",
     "output_type": "stream",
     "text": [
      "             Click Through Rate  Conversion Rate  Bounce Rate  Scroll_Depth  \\\n",
      "Theme                                                                         \n",
      "Light Theme            0.247109         0.255459     0.499035     50.735232   \n",
      "Dark Theme             0.264501         0.251282     0.512115     49.926404   \n",
      "\n",
      "                   Age  Session_Duration  \n",
      "Theme                                     \n",
      "Light Theme  41.734568        930.833333  \n",
      "Dark Theme   41.332685        919.482490  \n"
     ]
    }
   ],
   "source": [
    "df_numerical=df[['Theme','Click Through Rate', 'Conversion Rate', 'Bounce Rate', 'Scroll_Depth','Age', 'Session_Duration']] \n",
    "\n",
    "Theme_performance=df_numerical.groupby('Theme').mean()\n",
    "\n",
    "Theme_performance_sorted= Theme_performance.sort_values(by='Conversion Rate',ascending=False) \n",
    "print(Theme_performance_sorted)"
   ]
  },
  {
   "cell_type": "markdown",
   "id": "8e37bbd8-9c03-43d1-87d7-474c876def35",
   "metadata": {},
   "source": [
    "**From the comparison of both themes, we can observe the following:**\n",
    "\n",
    "- **Click Through Rate:** The Dark Theme hasly high averageer click-through rate (0.26) than the Light Theme-(0.25) \n",
    "- **Conversion Rate** The Light Theme has a higher average conversion rate(0.26) than the Dark Theme(0.25).\n",
    "- **Bounce Rate:** The Dark Theme shows a slightly higher bounce (0.51) rate compared to the Light Theme (0.50).\n",
    "- **Scroll Depth:** The Light Theme has a slightly greater scroll (51%) depth than the Dark Theme (50%) .\n",
    "- **Age:** The average age of users for both the Light(41.73 years) Theme and the Dark(41.33) Theme is nearly the same.\n",
    "- **Session Duration:** The Light Theme has a longer session (930.84 seconds) duration in comparison to the Dark (919.48 seconds) Theme. "
   ]
  },
  {
   "cell_type": "markdown",
   "id": "aa2ea905-0fa6-426d-b97b-d28683a7058e",
   "metadata": {},
   "source": [
    "\n",
    "- **Null hypothesis:** There is no difference in Conversion Rate between the Light team and Dark theme.\n",
    "  \n",
    "    **H0:** conversion rate<sub>light</sub> - conversion rate<sub>dark</sub>=0\n",
    "-  **Alternative hypothesis:** There is a difference in Conversion Rate between the Light team and Dark theme.\n",
    "\n",
    "     **H1:** conversion rate<sub>light</sub> - conversion rate<sub>dark</sub>!=0\n"
   ]
  },
  {
   "cell_type": "code",
   "execution_count": null,
   "id": "fe577ada-5236-4eb9-867e-5b5d77ca02e4",
   "metadata": {},
   "outputs": [],
   "source": [
    "a=0.05"
   ]
  },
  {
   "cell_type": "code",
   "execution_count": 6,
   "id": "71685690-2a26-4623-9e6b-0b53344c3367",
   "metadata": {},
   "outputs": [],
   "source": [
    "Conversion_rate_light= df[df['Theme']=='Light Theme']['Conversion Rate']   \n",
    "Conversion_rate_dark= df[df['Theme']=='Dark Theme']['Conversion Rate']"
   ]
  },
  {
   "cell_type": "code",
   "execution_count": 7,
   "id": "8ce8478a-c2c4-472c-8208-408d5818790c",
   "metadata": {},
   "outputs": [
    {
     "name": "stdout",
     "output_type": "stream",
     "text": [
      "P-value:  0.6349982678451778\n"
     ]
    }
   ],
   "source": [
    "t_stats_cr, p_value_cr=pingouin.ttest(x=Conversion_rate_light ,y=Conversion_rate_dark,alternative='two-sided')[['T', 'p-val']].values[0]\n",
    "\n",
    "print(\"P-value: \", p_value_cr)"
   ]
  },
  {
   "cell_type": "markdown",
   "id": "6fb90fdd-8856-492b-9405-e0393f9052cb",
   "metadata": {},
   "source": [
    "The p-val is 0.634998 which is greater than our significance level of 0.05, therefore we fail to reject the null hypothesis.\n",
    "\n",
    "This means there isn't enough evidence to support that there is a difference between the conversion rate<sub>light</sub> and conversion rate<sub>dark</sub> we therefore assume that there is no difference between the themes."
   ]
  },
  {
   "cell_type": "code",
   "execution_count": 8,
   "id": "35e02f0c-aa14-4087-b39e-e0e7a9e30acd",
   "metadata": {},
   "outputs": [],
   "source": [
    "Click_Through_Rate_light= df[df['Theme']=='Light Theme']['Click Through Rate']\n",
    "Click_Through_Rate_dark= df[df['Theme']=='Dark Theme']['Click Through Rate']\n",
    "\n",
    "t_stats_ctr, p_value_ctr = pingouin.ttest(x=Click_Through_Rate_light, y=Click_Through_Rate_dark,alternative='two-sided')[['T', 'p-val']].values[0]"
   ]
  },
  {
   "cell_type": "code",
   "execution_count": 9,
   "id": "a929fd8c-7c97-4478-bb61-cbbc79729832",
   "metadata": {},
   "outputs": [],
   "source": [
    "Bounce_Rate_light= df[df['Theme']=='Light Theme']['Bounce Rate']\n",
    "Bounce_Rate_dark= df[df['Theme']=='Dark Theme']['Bounce Rate']\n",
    "\n",
    "t_stats_br, p_value_br = pingouin.ttest(x=Bounce_Rate_light, y=Bounce_Rate_dark,alternative='two-sided')[['T', 'p-val']].values[0]\n"
   ]
  },
  {
   "cell_type": "code",
   "execution_count": 10,
   "id": "9bdbe811-4c79-4dc2-972d-9db769d7c920",
   "metadata": {},
   "outputs": [],
   "source": [
    "Scroll_Depth_light= df[df['Theme']=='Light Theme']['Scroll_Depth']\n",
    "Scroll_Depth_dark= df[df['Theme']=='Dark Theme']['Scroll_Depth']\n",
    "\n",
    "\n",
    "t_stats_Scd, p_value_Scd = pingouin.ttest(x=Scroll_Depth_light, y=Scroll_Depth_dark,alternative='two-sided')[['T', 'p-val']].values[0]"
   ]
  },
  {
   "cell_type": "code",
   "execution_count": 11,
   "id": "76837580-39ae-44d0-8b02-320fb06c71e9",
   "metadata": {},
   "outputs": [],
   "source": [
    "Session_Duration_light= df[df['Theme']=='Light Theme']['Session_Duration']\n",
    "Session_Duration_dark= df[df['Theme']=='Dark Theme']['Session_Duration']\n",
    "\n",
    "t_stats_sd, p_value_sd= pingouin.ttest(x=Session_Duration_light ,y=Session_Duration_dark)[['T', 'p-val']].values[0]\n"
   ]
  },
  {
   "cell_type": "code",
   "execution_count": 12,
   "id": "7946d9c1-0248-4866-94a5-7580d405b54f",
   "metadata": {},
   "outputs": [
    {
     "data": {
      "text/html": [
       "<div>\n",
       "<style scoped>\n",
       "    .dataframe tbody tr th:only-of-type {\n",
       "        vertical-align: middle;\n",
       "    }\n",
       "\n",
       "    .dataframe tbody tr th {\n",
       "        vertical-align: top;\n",
       "    }\n",
       "\n",
       "    .dataframe thead th {\n",
       "        text-align: right;\n",
       "    }\n",
       "</style>\n",
       "<table border=\"1\" class=\"dataframe\">\n",
       "  <thead>\n",
       "    <tr style=\"text-align: right;\">\n",
       "      <th></th>\n",
       "      <th>Metric</th>\n",
       "      <th>T_stats</th>\n",
       "      <th>P_value</th>\n",
       "    </tr>\n",
       "  </thead>\n",
       "  <tbody>\n",
       "    <tr>\n",
       "      <th>0</th>\n",
       "      <td>Click Through Rate</td>\n",
       "      <td>-1.978171</td>\n",
       "      <td>0.048184</td>\n",
       "    </tr>\n",
       "    <tr>\n",
       "      <th>1</th>\n",
       "      <td>Conversion Rate</td>\n",
       "      <td>0.474849</td>\n",
       "      <td>0.634998</td>\n",
       "    </tr>\n",
       "    <tr>\n",
       "      <th>2</th>\n",
       "      <td>Bounce Rate</td>\n",
       "      <td>-1.201888</td>\n",
       "      <td>0.229692</td>\n",
       "    </tr>\n",
       "    <tr>\n",
       "      <th>3</th>\n",
       "      <td>Scroll_Depth</td>\n",
       "      <td>0.756228</td>\n",
       "      <td>0.449692</td>\n",
       "    </tr>\n",
       "    <tr>\n",
       "      <th>4</th>\n",
       "      <td>Session_Duration</td>\n",
       "      <td>0.352912</td>\n",
       "      <td>0.724229</td>\n",
       "    </tr>\n",
       "  </tbody>\n",
       "</table>\n",
       "</div>"
      ],
      "text/plain": [
       "               Metric   T_stats   P_value\n",
       "0  Click Through Rate -1.978171  0.048184\n",
       "1     Conversion Rate  0.474849  0.634998\n",
       "2         Bounce Rate -1.201888  0.229692\n",
       "3        Scroll_Depth  0.756228  0.449692\n",
       "4    Session_Duration  0.352912  0.724229"
      ]
     },
     "execution_count": 12,
     "metadata": {},
     "output_type": "execute_result"
    }
   ],
   "source": [
    "Table_for_Comparison = pd.DataFrame({\n",
    "     'Metric':['Click Through Rate','Conversion Rate','Bounce Rate','Scroll_Depth','Session_Duration'] ,\n",
    "     'T_stats': [t_stats_ctr,t_stats_cr,t_stats_br,t_stats_Scd, t_stats_sd],\n",
    "     'P_value':[ p_value_ctr,p_value_cr, p_value_br, p_value_Scd, p_value_sd]\n",
    " })\n",
    "Table_for_Comparison"
   ]
  },
  {
   "cell_type": "markdown",
   "id": "6266e6f1-6b70-4214-a2c4-a0c209e1bc95",
   "metadata": {},
   "source": [
    "Recall that our significance level is 0.05, and if p-value is higher than this we fail to reject the null hypothesis which state that there is no difference between the light theme and the dark theme\n",
    "\n",
    "- **Click Through Rate:** There is a significant difference between the light and dark theme.(P-value=0.048)\n",
    "- **Conversion Rate:** There is no statistically significant difference between the light and dark theme.(P-value=0.635)\n",
    "- **Bounce Rate:** There is no statistically significant difference between the light and dark theme.(P-value=0.230)\n",
    "- **Scroll_Depth:** The difference between the light and dark theme is not statistically significant.(P-value=0.450) \n",
    "- **Session_Duration:** There is no statistically significant difference observed between the light and dark theme.(P-value=0.724)"
   ]
  }
 ],
 "metadata": {
  "kernelspec": {
   "display_name": "Python 3",
   "language": "python",
   "name": "python3"
  },
  "language_info": {
   "codemirror_mode": {
    "name": "ipython",
    "version": 3
   },
   "file_extension": ".py",
   "mimetype": "text/x-python",
   "name": "python",
   "nbconvert_exporter": "python",
   "pygments_lexer": "ipython3",
   "version": "3.13.1"
  }
 },
 "nbformat": 4,
 "nbformat_minor": 5
}
